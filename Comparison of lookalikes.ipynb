{
  "cells": [
    {
      "cell_type": "code",
      "execution_count": null,
      "metadata": {
        "colab": {
          "base_uri": "https://localhost:8080/"
        },
        "id": "UJuzNsnaBfAC",
        "outputId": "6ef915c7-a8ca-483a-fb6a-8ec3939c5ab9"
      },
      "outputs": [],
      "source": [
        "import os\n",
        "import pandas as pd\n",
        "import matplotlib.pyplot as plt\n",
        "import cv2"
      ]
    },
    {
      "cell_type": "code",
      "execution_count": 4,
      "metadata": {
        "colab": {
          "base_uri": "https://localhost:8080/"
        },
        "id": "VN99lY0cBhVU",
        "outputId": "07f2fa33-1a6a-4d23-b951-b3e4a8e46e52"
      },
      "outputs": [
        {
          "name": "stdout",
          "output_type": "stream",
          "text": [
            "Directory  /root /.deepface created\n",
            "Directory  /root /.deepface/weights created\n"
          ]
        }
      ],
      "source": [
        "from deepface import DeepFace"
      ]
    },
    {
      "cell_type": "code",
      "execution_count": 5,
      "metadata": {
        "id": "SWKv_zaFBijv"
      },
      "outputs": [],
      "source": [
        "# Pictures of things to compare\n",
        "compare_path = \"\""
      ]
    },
    {
      "cell_type": "code",
      "execution_count": 6,
      "metadata": {
        "id": "WUVUIxjvBjnb"
      },
      "outputs": [],
      "source": [
        "compare_characters = os.listdir(compare_path)"
      ]
    },
    {
      "cell_type": "code",
      "execution_count": 10,
      "metadata": {
        "id": "rzVXfy4BBqW_"
      },
      "outputs": [],
      "source": [
        "def finding_similar_face_function(path):\n",
        "  dist = []\n",
        "  res = []\n",
        "  for picture in compare_characters:\n",
        "    path1 = compare_path + picture\n",
        "    obj = DeepFace.verify(img1_path = path,\n",
        "                          img2_path = path1,\n",
        "                          model_name = \"Facenet\",\n",
        "                          detector_backend=\"mtcnn\",\n",
        "                          distance_metric=\"euclidean\")\n",
        "    clear_output(wait=True)\n",
        "    res.append([picture,obj['distance']])\n",
        "\n",
        "    dist.append((picture,obj))\n",
        "  img = cv2.imread(path)\n",
        "  x,y,w,h = [obj['facial_areas']['img1']['x'],\n",
        "            obj['facial_areas']['img1']['y'],\n",
        "            obj['facial_areas']['img1']['w'],\n",
        "            obj['facial_areas']['img1']['h']]\n",
        "  cv2.rectangle(img,(x,y),(x+w,y+h),(0,255,0),5)\n",
        "  img = cv2.cvtColor(img,cv2.COLOR_BGR2RGB)\n",
        "  plt.imshow(img)\n",
        "  plt.axis('off')\n",
        "  plt.show()\n",
        "  res.sort(key=lambda x:x[1])\n",
        "  print(\"The person most similar to\")\n",
        "  print(f\"It's a {res[0][0]}!\")\n",
        "  print()\n",
        "  print(\"Lookalike ranking\")\n",
        "  for i in range(len(res)):\n",
        "    print(f\"{i+1}. {res[i][0]}\")"
      ]
    },
    {
      "cell_type": "code",
      "execution_count": null,
      "metadata": {
        "id": "qVbBekRoWh7U"
      },
      "outputs": [],
      "source": [
        "# Photo for comparison\n",
        "img_path = \"\""
      ]
    },
    {
      "cell_type": "code",
      "execution_count": null,
      "metadata": {
        "colab": {
          "base_uri": "https://localhost:8080/",
          "height": 632
        },
        "id": "rymaM0SlBrxm",
        "outputId": "d4418377-b32f-436f-ddfc-355061eb74e0"
      },
      "outputs": [],
      "source": [
        "res = finding_similar_face_function(img_path)"
      ]
    }
  ],
  "metadata": {
    "colab": {
      "provenance": []
    },
    "kernelspec": {
      "display_name": "Python 3",
      "name": "python3"
    },
    "language_info": {
      "name": "python"
    }
  },
  "nbformat": 4,
  "nbformat_minor": 0
}
